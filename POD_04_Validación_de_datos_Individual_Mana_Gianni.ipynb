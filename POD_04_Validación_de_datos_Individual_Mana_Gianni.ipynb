{
  "nbformat": 4,
  "nbformat_minor": 0,
  "metadata": {
    "colab": {
      "provenance": []
    },
    "kernelspec": {
      "name": "python3",
      "display_name": "Python 3"
    },
    "language_info": {
      "name": "python"
    }
  },
  "cells": [
    {
      "cell_type": "markdown",
      "source": [
        "*   **Año:** [2024]\n",
        "*   **Alumno/a:** [Gianni Mana]\n",
        "*   **Legajo:** [45155554]"
      ],
      "metadata": {
        "id": "UwxQU5JCF33j"
      }
    },
    {
      "cell_type": "markdown",
      "source": [
        "# Pydantic\n",
        "Pydantic es una libreria rapida y extensible que nos permite validar datos usando tipos de datos de Python.\n"
      ],
      "metadata": {
        "id": "8ec8DQdbWQfC"
      }
    },
    {
      "cell_type": "markdown",
      "source": [
        "Primero, importe `pydantic`."
      ],
      "metadata": {
        "id": "uF01w4AQcrtV"
      }
    },
    {
      "cell_type": "code",
      "source": [
        "import pydantic as pyd"
      ],
      "metadata": {
        "id": "4WPUcwU_c5n2"
      },
      "execution_count": 3,
      "outputs": []
    },
    {
      "cell_type": "markdown",
      "source": [
        "Supongamos que tenemos una lista de clientes (llamemoslo en el codigo `Client`). Los clientes tienen dos campos: DNI (un entero) y nacionalidad (un `string`). Cree el modelo base de `Client` (en forma de clases de Python)."
      ],
      "metadata": {
        "id": "eC8fpbQ04GzX"
      }
    },
    {
      "cell_type": "code",
      "source": [
        "class Client(pyd.BaseModel):\n",
        "    dni: pyd.conint(strict=True)\n",
        "    nacionalidad: str"
      ],
      "metadata": {
        "id": "I4zJ7s_k4GkI"
      },
      "execution_count": 4,
      "outputs": []
    },
    {
      "cell_type": "markdown",
      "source": [
        "Cree a un usuario con documento 39.755.010 y nacionalidad 'Argentina'. Muestre todos sus campos."
      ],
      "metadata": {
        "id": "zas-XX4r4SeP"
      }
    },
    {
      "cell_type": "code",
      "source": [
        "cliente = Client(dni = 39755010, nacionalidad = \"Argentina\")\n",
        "print(f\"El cliente posee DNI: {cliente.dni} y nacionalidad: {cliente.nacionalidad}\")\n"
      ],
      "metadata": {
        "id": "_DhtCWhr4ST9",
        "colab": {
          "base_uri": "https://localhost:8080/"
        },
        "outputId": "f1ad80fe-cb92-4fa0-95a5-148afbe2800d"
      },
      "execution_count": 13,
      "outputs": [
        {
          "output_type": "stream",
          "name": "stdout",
          "text": [
            "El cliente posee DNI: 39755010 y nacionalidad: Argentina\n"
          ]
        }
      ]
    },
    {
      "cell_type": "markdown",
      "source": [
        "Intente crear al usuario con un documento en forma de `string`. Deberia fallar..."
      ],
      "metadata": {
        "id": "ejbn5RSH4S_W"
      }
    },
    {
      "cell_type": "code",
      "source": [
        "try:\n",
        "    cliente_fallo = Client(dni = \"39755010\", nacionalidad = \"Argentina\")\n",
        "    print(\"Cliente inválido:\")\n",
        "    print(cliente_fallo)\n",
        "except pyd.ValidationError as e:\n",
        "    print(\"Error en la validación del cliente:\")\n",
        "    print(e)"
      ],
      "metadata": {
        "id": "OMPq8C1C4Su3",
        "colab": {
          "base_uri": "https://localhost:8080/"
        },
        "outputId": "278e2f53-666d-4a3b-b94c-852a1f2b7c4f"
      },
      "execution_count": 14,
      "outputs": [
        {
          "output_type": "stream",
          "name": "stdout",
          "text": [
            "Error en la validación del cliente:\n",
            "1 validation error for Client\n",
            "dni\n",
            "  Input should be a valid integer [type=int_type, input_value='39755010', input_type=str]\n",
            "    For further information visit https://errors.pydantic.dev/2.9/v/int_type\n"
          ]
        }
      ]
    },
    {
      "cell_type": "markdown",
      "source": [
        "Hemos detectado que ciertos clientes tienen nacionalidades que no existen. Ademas, hay numeros de documento negativos y se tiene que poder agregar la fecha de registro de los clientes (que no pueden ser del futuro). Cambiar la definicion del cliente para que estas cosas no ocurran. Despues de la siguiente celda, cree otras 3 mas probando un caso donde deberia funcionar y otros dos en los que no."
      ],
      "metadata": {
        "id": "jARZRMfe6MPE"
      }
    },
    {
      "cell_type": "code",
      "source": [
        "from datetime import date\n",
        "from typing import Literal\n",
        "\n",
        "class Client(pyd.BaseModel):\n",
        "    dni: pyd.conint(gt=0)\n",
        "    nacionalidad: Literal[\"Argentina\", \"Uruguay\", \"Brasil\"]\n",
        "    fecha_registro: date\n",
        "\n",
        "    @pyd.validator(\"fecha_registro\")\n",
        "    def check_fecha_registro(cls, a):\n",
        "        if a > date.today():\n",
        "            raise ValueError(\"La fecha de registro es invalida\")\n",
        "        return a"
      ],
      "metadata": {
        "id": "JWsWZZPH6NFv",
        "colab": {
          "base_uri": "https://localhost:8080/"
        },
        "outputId": "79834046-e574-4ed6-ad41-e8770ba984f7"
      },
      "execution_count": 33,
      "outputs": [
        {
          "output_type": "stream",
          "name": "stderr",
          "text": [
            "<ipython-input-33-641a7b90e05d>:9: PydanticDeprecatedSince20: Pydantic V1 style `@validator` validators are deprecated. You should migrate to Pydantic V2 style `@field_validator` validators, see the migration guide for more details. Deprecated in Pydantic V2.0 to be removed in V3.0. See Pydantic V2 Migration Guide at https://errors.pydantic.dev/2.9/migration/\n",
            "  @pyd.validator(\"fecha_registro\")\n"
          ]
        }
      ]
    },
    {
      "cell_type": "code",
      "source": [
        "try:\n",
        "    cliente = Client(dni = 45155554, nacionalidad = \"Argentina\", fecha_registro = date(2024, 11, 12))\n",
        "    print(\"Cliente:\")\n",
        "    print(cliente)\n",
        "except pyd.ValidationError as e:\n",
        "    print(\"Error\")\n",
        "    print(e)"
      ],
      "metadata": {
        "id": "sWyLaqoC7QUK",
        "colab": {
          "base_uri": "https://localhost:8080/"
        },
        "outputId": "d6d780d8-fa66-4c72-afdd-34dbbb73b00d"
      },
      "execution_count": 22,
      "outputs": [
        {
          "output_type": "stream",
          "name": "stdout",
          "text": [
            "Cliente:\n",
            "dni=45155554 nacionalidad='Argentina' fecha_registro=datetime.date(2024, 11, 12)\n"
          ]
        }
      ]
    },
    {
      "cell_type": "code",
      "source": [
        "try:\n",
        "    cliente_fallo = Client(dni = -202401201, nacionalidad = \"Argentina\", fecha_registro = date(2030, 10, 10))\n",
        "    print(\"Cliente:\")\n",
        "    print(cliente_fallo)\n",
        "except pyd.ValidationError as e:\n",
        "    print(\"Error\")\n",
        "    print(e)"
      ],
      "metadata": {
        "id": "E6h_7zb77QhN",
        "colab": {
          "base_uri": "https://localhost:8080/"
        },
        "outputId": "c3a48173-720f-4d78-a4a0-421e1895f78b"
      },
      "execution_count": 24,
      "outputs": [
        {
          "output_type": "stream",
          "name": "stdout",
          "text": [
            "Error\n",
            "2 validation errors for Client\n",
            "dni\n",
            "  Input should be greater than 0 [type=greater_than, input_value=-202401201, input_type=int]\n",
            "    For further information visit https://errors.pydantic.dev/2.9/v/greater_than\n",
            "fecha_registro\n",
            "  Value error, La fecha de registro es invalida [type=value_error, input_value=datetime.date(2030, 10, 10), input_type=date]\n",
            "    For further information visit https://errors.pydantic.dev/2.9/v/value_error\n"
          ]
        }
      ]
    },
    {
      "cell_type": "code",
      "source": [
        "try:\n",
        "    cliente = Client(dni = -45130906, nacionalidad = \"Boliviana\", fecha_registro = date(2032, 1, 13))\n",
        "    print(f\"Cliente: {cliente}\")\n",
        "except pyd.ValidationError as e:\n",
        "    print(\"Error\")\n",
        "    print(e)"
      ],
      "metadata": {
        "id": "MtDGMxri7R_O",
        "colab": {
          "base_uri": "https://localhost:8080/"
        },
        "outputId": "c51794cb-5f29-4503-f3f2-451e1ff192eb"
      },
      "execution_count": 35,
      "outputs": [
        {
          "output_type": "stream",
          "name": "stdout",
          "text": [
            "Error\n",
            "3 validation errors for Client\n",
            "dni\n",
            "  Input should be greater than 0 [type=greater_than, input_value=-45130906, input_type=int]\n",
            "    For further information visit https://errors.pydantic.dev/2.9/v/greater_than\n",
            "nacionalidad\n",
            "  Input should be 'Argentina', 'Uruguay' or 'Brasil' [type=literal_error, input_value='Boliviana', input_type=str]\n",
            "    For further information visit https://errors.pydantic.dev/2.9/v/literal_error\n",
            "fecha_registro\n",
            "  Value error, La fecha de registro es invalida [type=value_error, input_value=datetime.date(2032, 1, 13), input_type=date]\n",
            "    For further information visit https://errors.pydantic.dev/2.9/v/value_error\n"
          ]
        }
      ]
    },
    {
      "cell_type": "markdown",
      "source": [
        "# Pandera\n",
        "Hacer lo que se pidio en la ultima celda anterior, pero con Pandera."
      ],
      "metadata": {
        "id": "79P3MNuZ8-t3"
      }
    },
    {
      "cell_type": "code",
      "source": [
        "!pip install pandera"
      ],
      "metadata": {
        "id": "hmB97i8srMY4"
      },
      "execution_count": null,
      "outputs": []
    },
    {
      "cell_type": "code",
      "source": [
        "import pandera as pa\n",
        "from datetime import date\n",
        "import pandas as pd\n",
        "\n",
        "schema = pa.DataFrameSchema(\n",
        "    {\n",
        "        \"dni\": pa.Column(int, checks=pa.Check.ge(1)),\n",
        "        \"nacionalidad\": pa.Column(str, checks=pa.Check.isin([\"Argentina\", \"Uruguay\", \"Brasil\"])),\n",
        "        \"fecha_registro\": pa.Column(\n",
        "            pa.DateTime,\n",
        "            checks=pa.Check(\n",
        "                lambda fecha: fecha <= pd.Timestamp(date.today()),\n",
        "                element_wise=True\n",
        "            )\n",
        "        ),\n",
        "    }\n",
        ")\n",
        "\n",
        "\n",
        "dataframe = pd.DataFrame({\n",
        "    \"dni\": [45155554],\n",
        "    \"nacionalidad\": [\"Argentina\"],\n",
        "    \"fecha_registro\": [pd.Timestamp(\"2003-12-11\")]\n",
        "})\n",
        "\n",
        "try:\n",
        "    schema.validate(df)\n",
        "    print(\"El DataFrame es válido\")\n",
        "except pa.errors.SchemaError as e:\n",
        "    print(f\"Error de validación: {e}\")\n",
        "\n",
        "dataframe2 = pd.DataFrame({\n",
        "    \"dni\": [-14890211],\n",
        "    \"nacionalidad\": [\"Uruguay\"],\n",
        "    \"fecha_registro\": [pd.Timestamp(\"2024-10-18\")]\n",
        "})\n",
        "\n",
        "\n",
        "try:\n",
        "    schema.validate(df2)\n",
        "    print(\"El dataframe es válido\")\n",
        "except pa.errors.SchemaError as e:\n",
        "    print(f\"Error de validación: {e}\")\n",
        "\n",
        "\n",
        "dataframe3 = pd.DataFrame({\n",
        "    \"dni\": [12345678],\n",
        "    \"nacionalidad\": [\"Boliviana\"],\n",
        "    \"fecha_registro\": [pd.Timestamp(\"2024-01-18\")]\n",
        "})\n",
        "\n",
        "try:\n",
        "    schema.validate(df3)\n",
        "    print(\"El dataframe es válido\")\n",
        "except pa.errors.SchemaError as e:\n",
        "    print(f\"Error de validación: {e}\")"
      ],
      "metadata": {
        "id": "z3DJDdci8-BP",
        "colab": {
          "base_uri": "https://localhost:8080/"
        },
        "outputId": "a969feae-009b-443e-c189-7c1cbcab16bd"
      },
      "execution_count": 40,
      "outputs": [
        {
          "output_type": "stream",
          "name": "stdout",
          "text": [
            "El DataFrame es válido\n",
            "Error de validación: Column 'dni' failed element-wise validator number 0: greater_than_or_equal_to(1) failure cases: -23456789\n",
            "Error de validación: Column 'nacionalidad' failed element-wise validator number 0: isin(['Argentina', 'Uruguay', 'Brasil']) failure cases: Peru\n"
          ]
        }
      ]
    }
  ]
}