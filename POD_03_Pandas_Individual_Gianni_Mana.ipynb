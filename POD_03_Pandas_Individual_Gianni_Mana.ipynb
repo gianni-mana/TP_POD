{
  "nbformat": 4,
  "nbformat_minor": 0,
  "metadata": {
    "colab": {
      "provenance": [],
      "collapsed_sections": [
        "8ec8DQdbWQfC",
        "uf4NRwyMCKbg"
      ]
    },
    "kernelspec": {
      "name": "python3",
      "display_name": "Python 3"
    },
    "language_info": {
      "name": "python"
    }
  },
  "cells": [
    {
      "cell_type": "markdown",
      "source": [
        "*   **Año:** [2024]\n",
        "*   **Alumno/a:** [Gianni Mana]\n",
        "*   **Legajo:** [45155554]"
      ],
      "metadata": {
        "id": "UwxQU5JCF33j"
      }
    },
    {
      "cell_type": "markdown",
      "source": [
        "# Pandas\n",
        "A continuación, cada celda va a pedir algo distinto. Por favor, realizarlo con la menor cantidad de lineas posibles y con NumPy.\n"
      ],
      "metadata": {
        "id": "8ec8DQdbWQfC"
      }
    },
    {
      "cell_type": "markdown",
      "source": [
        "Importar `pandas` con el alias `pd` e imprimir la versión instalada."
      ],
      "metadata": {
        "id": "uF01w4AQcrtV"
      }
    },
    {
      "cell_type": "code",
      "source": [
        "import pandas as pd\n",
        "print(pd.__version__)"
      ],
      "metadata": {
        "id": "4WPUcwU_c5n2",
        "colab": {
          "base_uri": "https://localhost:8080/"
        },
        "outputId": "7d54c54e-dcb1-46fa-d6ae-d73c2687bbc4"
      },
      "execution_count": 1,
      "outputs": [
        {
          "output_type": "stream",
          "name": "stdout",
          "text": [
            "2.2.2\n"
          ]
        }
      ]
    },
    {
      "cell_type": "markdown",
      "source": [
        "Crear la siguiente tabla como un dataframe de Pandas donde cada linea represente un diccionario.\n",
        "\n",
        "| _Index_ | **nombre**       | **edad** | **dni**  |\n",
        "|---------|------------------|----------|----------|\n",
        "| 9       | Brown, James     | 43       | 30123444 |\n",
        "| 3       | Hamkel, Louis V. | 29       | 44555666 |\n",
        "| 7       | Baptista, Carlos | 28       | 43120111 |"
      ],
      "metadata": {
        "id": "eC8fpbQ04GzX"
      }
    },
    {
      "cell_type": "code",
      "source": [
        "datos = [\n",
        "    { 'Index': 9, 'nombre': 'Brown, James', 'edad': 43, 'dni': 30123444 },\n",
        "    { 'Index': 3, 'nombre': 'Hamkel, Louis V.', 'edad': 29, 'dni': 44555666 },\n",
        "    { 'Index': 7, 'nombre': 'Baptista, Carlos', 'edad': 28, 'dni': 43120111 }\n",
        "]\n",
        "\n",
        "df = pd.DataFrame(datos)\n",
        "df.set_index('Index', inplace=True)\n",
        "\n",
        "print(df)"
      ],
      "metadata": {
        "id": "I4zJ7s_k4GkI"
      },
      "execution_count": null,
      "outputs": []
    },
    {
      "cell_type": "markdown",
      "source": [
        "Crear la siguiente tabla como un dataframe de Pandas donde todas las lineas esten dentro de un solo diccionario.\n",
        "\n",
        "| _Index_ | **nombre**       | **edad** | **dni**  |\n",
        "|---------|------------------|----------|----------|\n",
        "| 9       | Brown, James     | 43       | 30123444 |\n",
        "| 3       | Hamkel, Louis V. | 29       | 44555666 |\n",
        "| 7       | Baptista, Carlos | 28       | 43120111 |"
      ],
      "metadata": {
        "id": "zas-XX4r4SeP"
      }
    },
    {
      "cell_type": "code",
      "source": [
        "datos = {\n",
        "    'Index': [9, 3, 7],\n",
        "    'nombre': ['Brown, James', 'Hamkel, Louis V.', 'Baptista, Carlos'],\n",
        "    'edad': [43, 29, 28],\n",
        "    'dni': [30123444, 44555666, 43120111]\n",
        "}\n",
        "\n",
        "df = pd.DataFrame(datos)\n",
        "df.set_index('Index', inplace=True)\n",
        "print(df)"
      ],
      "metadata": {
        "id": "_DhtCWhr4ST9"
      },
      "execution_count": null,
      "outputs": []
    },
    {
      "cell_type": "markdown",
      "source": [
        "Crear la siguiente tabla como un dataframe de Pandas donde se usen unicamente listas.\n",
        "\n",
        "| _Index_ | **nombre**       | **edad** | **dni**  |\n",
        "|---------|------------------|----------|----------|\n",
        "| 9       | Brown, James     | 43       | 30123444 |\n",
        "| 3       | Hamkel, Louis V. | 29       | 44555666 |\n",
        "| 7       | Baptista, Carlos | 28       | 43120111 |"
      ],
      "metadata": {
        "id": "ejbn5RSH4S_W"
      }
    },
    {
      "cell_type": "code",
      "source": [
        "datos = [\n",
        "    [9, 'Brown, James', 43, 30123444],\n",
        "    [3, 'Hamkel, Louis V.', 29, 44555666],\n",
        "    [7, 'Baptista, Carlos', 28, 43120111]\n",
        "]\n",
        "\n",
        "columns = ['Index', 'nombre', 'edad', 'dni']\n",
        "\n",
        "df = pd.DataFrame(datos, columns=columns)\n",
        "df.set_index('Index', inplace=True)\n",
        "print(df)\n",
        ""
      ],
      "metadata": {
        "id": "OMPq8C1C4Su3"
      },
      "execution_count": null,
      "outputs": []
    },
    {
      "cell_type": "markdown",
      "source": [
        "Crear la siguiente tabla como un dataframe de Pandas donde se usen unicamente `Series`.\n",
        "\n",
        "| _Index_ | **nombre**       | **edad** | **dni**  |\n",
        "|---------|------------------|----------|----------|\n",
        "| 9       | Brown, James     | 43       | 30123444 |\n",
        "| 3       | Hamkel, Louis V. | 29       | 44555666 |\n",
        "| 7       | Baptista, Carlos | 28       | 43120111 |"
      ],
      "metadata": {
        "id": "dVCeyowLEnJ1"
      }
    },
    {
      "cell_type": "code",
      "source": [
        "index = pd.Series([9, 3, 7])\n",
        "nombre = pd.Series(['Brown, James', 'Hamkel, Louis V.', 'Baptista, Carlos'])\n",
        "edad = pd.Series([43, 29, 28])\n",
        "dni = pd.Series([30123444, 44555666, 43120111])\n",
        "\n",
        "df = pd.DataFrame({\n",
        "    'Index': index,\n",
        "    'nombre': nombre,\n",
        "    'edad': edad,\n",
        "    'dni': dni\n",
        "})\n",
        "\n",
        "print(df.to_string(index=False))"
      ],
      "metadata": {
        "id": "lj0zQr7qEmzj"
      },
      "execution_count": null,
      "outputs": []
    },
    {
      "cell_type": "markdown",
      "source": [
        "Reutilice cualquiera de los dataframe hechos anteriormente pero agregue la columna `fecha` con el tipo de dato relacionado a fechas.\n",
        "\n",
        "| _Index_ | **nombre**       | **edad** | **dni**  | **fecha**  |\n",
        "|---------|------------------|----------|----------|------------|\n",
        "| 9       | Brown, James     | 43       | 30123444 | 12/08/1981 |\n",
        "| 3       | Hamkel, Louis V. | 29       | 44555666 | 10/04/1995 |\n",
        "| 7       | Baptista, Carlos | 28       | 43120111 | 28/05/1996 |"
      ],
      "metadata": {
        "id": "oP9dwhSLEnix"
      }
    },
    {
      "cell_type": "code",
      "source": [
        "index = pd.Series([9, 3, 7])\n",
        "nombre = pd.Series(['Brown, James', 'Hamkel, Louis V.', 'Baptista, Carlos'])\n",
        "edad = pd.Series([43, 29, 28])\n",
        "dni = pd.Series([30123444, 44555666, 43120111])\n",
        "\n",
        "df = pd.DataFrame({\n",
        "    'Index': index,\n",
        "    'Nombre': nombre,\n",
        "    'Edad': edad,\n",
        "    'Documento:': dni\n",
        "})\n",
        "\n",
        "fechas = ['1981-08-12', '1995-4-10', '1996-05-28']\n",
        "df['Fecha'] = pd.to_datetime(fechas)\n",
        "\n",
        "print(df.to_string(index=False))"
      ],
      "metadata": {
        "id": "lt6ZjIgAFEpT",
        "colab": {
          "base_uri": "https://localhost:8080/"
        },
        "outputId": "c3c90b0e-e910-4f8a-8af8-a8d2485df259"
      },
      "execution_count": 17,
      "outputs": [
        {
          "output_type": "stream",
          "name": "stdout",
          "text": [
            " Index           Nombre  Edad  Documento:      Fecha\n",
            "     9     Brown, James    43    30123444 1981-08-12\n",
            "     3 Hamkel, Louis V.    29    44555666 1995-04-10\n",
            "     7 Baptista, Carlos    28    43120111 1996-05-28\n"
          ]
        }
      ]
    },
    {
      "cell_type": "markdown",
      "source": [
        "Ejecute la siguiente celda. Se va a descargar un archivo llamado `u.user`."
      ],
      "metadata": {
        "id": "X6Y5smKMEn6w"
      }
    },
    {
      "cell_type": "code",
      "source": [
        "!wget https://raw.githubusercontent.com/justmarkham/DAT8/master/data/u.user"
      ],
      "metadata": {
        "id": "3v7G1jWs7rDg",
        "colab": {
          "base_uri": "https://localhost:8080/"
        },
        "outputId": "b754355c-f3ee-4dcd-e847-f5ecac4d6988"
      },
      "execution_count": 2,
      "outputs": [
        {
          "output_type": "stream",
          "name": "stdout",
          "text": [
            "--2024-11-21 21:52:59--  https://raw.githubusercontent.com/justmarkham/DAT8/master/data/u.user\n",
            "Resolving raw.githubusercontent.com (raw.githubusercontent.com)... 185.199.111.133, 185.199.110.133, 185.199.109.133, ...\n",
            "Connecting to raw.githubusercontent.com (raw.githubusercontent.com)|185.199.111.133|:443... connected.\n",
            "HTTP request sent, awaiting response... 200 OK\n",
            "Length: 22667 (22K) [text/plain]\n",
            "Saving to: ‘u.user’\n",
            "\n",
            "u.user              100%[===================>]  22.14K  --.-KB/s    in 0.003s  \n",
            "\n",
            "2024-11-21 21:52:59 (6.74 MB/s) - ‘u.user’ saved [22667/22667]\n",
            "\n"
          ]
        }
      ]
    },
    {
      "cell_type": "markdown",
      "source": [
        "Lea el archivo con pandas y muestre las primeras 5 filas."
      ],
      "metadata": {
        "id": "-qRRF8T_72wD"
      }
    },
    {
      "cell_type": "code",
      "source": [
        "df = pd.read_csv('u.user', sep='|')\n",
        "print(df.head())"
      ],
      "metadata": {
        "id": "HlPu1a1sEohQ",
        "colab": {
          "base_uri": "https://localhost:8080/"
        },
        "outputId": "2091364a-07a7-4a67-fe5c-d713ff204df4"
      },
      "execution_count": 29,
      "outputs": [
        {
          "output_type": "stream",
          "name": "stdout",
          "text": [
            "   user_id  age gender  occupation zip_code\n",
            "0        1   24      M  technician    85711\n",
            "1        2   53      F       other    94043\n",
            "2        3   23      M      writer    32067\n",
            "3        4   24      M  technician    43537\n",
            "4        5   33      F       other    15213\n"
          ]
        }
      ]
    },
    {
      "cell_type": "markdown",
      "source": [
        "Utilice la columna `user_id` como indice y saque dicha columna del dataframe\n",
        "\n"
      ],
      "metadata": {
        "id": "LsqtwfYc8P6L"
      }
    },
    {
      "cell_type": "code",
      "source": [
        "df = df.set_index('user_id')\n",
        "print(df) #Al convertirlo en mi index, no forma parte del df, sino del acceso al mismo"
      ],
      "metadata": {
        "id": "yQs0BtSF8PzU",
        "colab": {
          "base_uri": "https://localhost:8080/"
        },
        "outputId": "8c15e0c8-446b-4f2d-d492-77a78cace82b"
      },
      "execution_count": 30,
      "outputs": [
        {
          "output_type": "stream",
          "name": "stdout",
          "text": [
            "         age gender     occupation zip_code\n",
            "user_id                                    \n",
            "1         24      M     technician    85711\n",
            "2         53      F          other    94043\n",
            "3         23      M         writer    32067\n",
            "4         24      M     technician    43537\n",
            "5         33      F          other    15213\n",
            "...      ...    ...            ...      ...\n",
            "939       26      F        student    33319\n",
            "940       32      M  administrator    02215\n",
            "941       20      M        student    97229\n",
            "942       48      F      librarian    78209\n",
            "943       22      M        student    77841\n",
            "\n",
            "[943 rows x 4 columns]\n"
          ]
        }
      ]
    },
    {
      "cell_type": "markdown",
      "source": [
        "¿Cuantas categorias de trabajos hay?"
      ],
      "metadata": {
        "id": "_5Cld-VT8PsG"
      }
    },
    {
      "cell_type": "code",
      "source": [
        "print(f\"La cantidad de categorias de trabajos distintos es de: {df['occupation'].nunique()}.\")"
      ],
      "metadata": {
        "id": "TVeQ-jgZ8PlX",
        "colab": {
          "base_uri": "https://localhost:8080/"
        },
        "outputId": "2dae8bcb-fc6d-4523-9236-cfdbad39a61d"
      },
      "execution_count": 23,
      "outputs": [
        {
          "output_type": "stream",
          "name": "stdout",
          "text": [
            "La cantidad de categorias de trabajos distintos es de: 21.\n"
          ]
        }
      ]
    },
    {
      "cell_type": "markdown",
      "source": [
        " Reporte el porcentaje de personas que tiene cada ocupación."
      ],
      "metadata": {
        "id": "suETYqm28Pba"
      }
    },
    {
      "cell_type": "code",
      "source": [
        "print(f\"EL porcentaje de personas con ocupacion es de: {df['occupation'].value_counts(normalize=True) * 100}\")"
      ],
      "metadata": {
        "id": "mJFiaURH8PS4",
        "colab": {
          "base_uri": "https://localhost:8080/"
        },
        "outputId": "32f72187-7995-4c17-eb10-e1aa2fc0f96f"
      },
      "execution_count": 32,
      "outputs": [
        {
          "output_type": "stream",
          "name": "stdout",
          "text": [
            "EL porcentaje de personas con ocupacion es de: occupation\n",
            "student          20.784730\n",
            "other            11.134677\n",
            "educator         10.074231\n",
            "administrator     8.377519\n",
            "engineer          7.104984\n",
            "programmer        6.998940\n",
            "librarian         5.408271\n",
            "writer            4.772004\n",
            "executive         3.393425\n",
            "scientist         3.287381\n",
            "artist            2.969247\n",
            "technician        2.863203\n",
            "marketing         2.757158\n",
            "entertainment     1.908802\n",
            "healthcare        1.696713\n",
            "retired           1.484624\n",
            "lawyer            1.272534\n",
            "salesman          1.272534\n",
            "none              0.954401\n",
            "homemaker         0.742312\n",
            "doctor            0.742312\n",
            "Name: proportion, dtype: float64\n"
          ]
        }
      ]
    },
    {
      "cell_type": "markdown",
      "source": [
        "Reporte el promedio de edad de los estudiantes usando indexeo booleano."
      ],
      "metadata": {
        "id": "OqJ3ufrnEouE"
      }
    },
    {
      "cell_type": "code",
      "source": [
        "print(f\"El promedio de edad en los estudiantes es de: {df[df['occupation'] == 'student']['age'].mean()}.\")"
      ],
      "metadata": {
        "id": "h9LdQIKZF5Y3",
        "colab": {
          "base_uri": "https://localhost:8080/"
        },
        "outputId": "9ee75f6a-e02d-4d8c-d565-133c13f741f3"
      },
      "execution_count": 34,
      "outputs": [
        {
          "output_type": "stream",
          "name": "stdout",
          "text": [
            "El promedio de edad en los estudiantes es de: 22.081632653061224.\n"
          ]
        }
      ]
    },
    {
      "cell_type": "markdown",
      "source": [
        "Mostrar, con una sola linea y sin importar `matplotlib`, un histograma de las edades de las personas que son administradores."
      ],
      "metadata": {
        "id": "ECU9-LayF53z"
      }
    },
    {
      "cell_type": "code",
      "source": [
        "print(df[df['occupation'] == 'administrator']['age'].value_counts())"
      ],
      "metadata": {
        "id": "qOimVpu0F4el",
        "colab": {
          "base_uri": "https://localhost:8080/"
        },
        "outputId": "f7949bf3-0605-4ea2-c790-045ae5ab97b6"
      },
      "execution_count": 35,
      "outputs": [
        {
          "output_type": "stream",
          "name": "stdout",
          "text": [
            "age\n",
            "30    5\n",
            "51    5\n",
            "38    4\n",
            "35    4\n",
            "48    4\n",
            "28    4\n",
            "49    4\n",
            "33    3\n",
            "22    3\n",
            "25    3\n",
            "47    3\n",
            "43    3\n",
            "54    2\n",
            "42    2\n",
            "37    2\n",
            "36    2\n",
            "23    2\n",
            "59    2\n",
            "31    2\n",
            "32    2\n",
            "29    2\n",
            "26    2\n",
            "27    2\n",
            "50    1\n",
            "53    1\n",
            "70    1\n",
            "44    1\n",
            "57    1\n",
            "41    1\n",
            "62    1\n",
            "21    1\n",
            "34    1\n",
            "39    1\n",
            "45    1\n",
            "46    1\n",
            "Name: count, dtype: int64\n"
          ]
        }
      ]
    },
    {
      "cell_type": "markdown",
      "source": [
        "Reemplace, sin usar `for`, en la columna `gender` `F` por `female` y `M` por `male`."
      ],
      "metadata": {
        "id": "mFzSH9D1QHM4"
      }
    },
    {
      "cell_type": "code",
      "source": [
        "print(f\"El dataframe modificado se observa como: \\n{df['gender'].replace({'F': 'female', 'M': 'male'})} \" )"
      ],
      "metadata": {
        "id": "SZg2_4AJQHhr",
        "colab": {
          "base_uri": "https://localhost:8080/"
        },
        "outputId": "9ed870cd-be3e-4251-d39c-66d94cb68a94"
      },
      "execution_count": 41,
      "outputs": [
        {
          "output_type": "stream",
          "name": "stdout",
          "text": [
            "El dataframe modificado se observa como \n",
            "user_id\n",
            "1        male\n",
            "2      female\n",
            "3        male\n",
            "4        male\n",
            "5      female\n",
            "        ...  \n",
            "939    female\n",
            "940      male\n",
            "941      male\n",
            "942    female\n",
            "943      male\n",
            "Name: gender, Length: 943, dtype: object \n"
          ]
        }
      ]
    },
    {
      "cell_type": "markdown",
      "source": [
        "# Yahoo! Finance"
      ],
      "metadata": {
        "id": "x6s9aanXAp4G"
      }
    },
    {
      "cell_type": "markdown",
      "source": [
        "Vamos a analizar acciones. La siguiente linea accede a Yahoo Finance y devuelve un DataFrame con los valores de la acción cada dia desde el 1980."
      ],
      "metadata": {
        "id": "qqBxTaafArYH"
      }
    },
    {
      "cell_type": "code",
      "source": [
        "import yfinance as yf\n",
        "dataframe = yf.download('AAPL', start=\"1980-01-01\", end=\"2030-01-01\")"
      ],
      "metadata": {
        "id": "HWJ0fZbfApy6",
        "colab": {
          "base_uri": "https://localhost:8080/"
        },
        "outputId": "104f2f70-0a79-4a7c-9171-78a045b5dbae"
      },
      "execution_count": 10,
      "outputs": [
        {
          "output_type": "stream",
          "name": "stderr",
          "text": [
            "\r[*********************100%***********************]  1 of 1 completed\n"
          ]
        }
      ]
    },
    {
      "cell_type": "markdown",
      "source": [
        "¿Cual es el registro mas viejo? Imprimirlo."
      ],
      "metadata": {
        "id": "ikpnKqnPApuG"
      }
    },
    {
      "cell_type": "code",
      "source": [
        "print(dataframe.head(1))\n"
      ],
      "metadata": {
        "id": "e56tZ607Appx",
        "colab": {
          "base_uri": "https://localhost:8080/"
        },
        "outputId": "159a8975-a19d-4b93-da3a-292bc6c104c9"
      },
      "execution_count": 11,
      "outputs": [
        {
          "output_type": "stream",
          "name": "stdout",
          "text": [
            "Price                     Adj Close     Close      High       Low      Open  \\\n",
            "Ticker                         AAPL      AAPL      AAPL      AAPL      AAPL   \n",
            "Date                                                                          \n",
            "1980-12-12 00:00:00+00:00  0.098834  0.128348  0.128906  0.128348  0.128348   \n",
            "\n",
            "Price                         Volume  \n",
            "Ticker                          AAPL  \n",
            "Date                                  \n",
            "1980-12-12 00:00:00+00:00  469033600  \n"
          ]
        }
      ]
    },
    {
      "cell_type": "markdown",
      "source": [
        "Cree la columna `Average` tal que\n",
        "\n",
        "$$Average =  \\frac{High-Low}{2}$$\n",
        "\n",
        "y muestre con un histograma dicha columna."
      ],
      "metadata": {
        "id": "EHHhUvUtApk0"
      }
    },
    {
      "cell_type": "code",
      "source": [
        "dataframe['Average'] = (dataframe['High'] - dataframe['Low']) / 2\n",
        "dataframe['Average'].hist()"
      ],
      "metadata": {
        "id": "-b9g66axApgL",
        "colab": {
          "base_uri": "https://localhost:8080/",
          "height": 447
        },
        "outputId": "987015b4-11f4-4a81-8a18-0d6672dcadbf"
      },
      "execution_count": 42,
      "outputs": [
        {
          "output_type": "execute_result",
          "data": {
            "text/plain": [
              "<Axes: >"
            ]
          },
          "metadata": {},
          "execution_count": 42
        },
        {
          "output_type": "display_data",
          "data": {
            "text/plain": [
              "<Figure size 640x480 with 1 Axes>"
            ],
            "image/png": "[encoded data removed]"
          },
          "metadata": {}
        }
      ]
    },
    {
      "cell_type": "markdown",
      "source": [
        "Con `matplotlib`, muestre como `Average` fue evolucionando *al final de cada año*."
      ],
      "metadata": {
        "id": "yeZWGXexApbb"
      }
    },
    {
      "cell_type": "code",
      "source": [
        "import matplotlib.pyplot as plt\n",
        "\n",
        "avg_anual = dataframe.groupby(dataframe.index.year)['Average'].last()\n",
        "\n",
        "plt.plot(avg_anual.index, avg_anual.values)\n",
        "plt.xlabel('Año')\n",
        "plt.ylabel('Avg')\n",
        "plt.title('Evolución')\n",
        "plt.show()"
      ],
      "metadata": {
        "id": "oeSb_UegApVZ",
        "colab": {
          "base_uri": "https://localhost:8080/",
          "height": 472
        },
        "outputId": "034d274e-7bd9-48dc-cea9-06b047302d7a"
      },
      "execution_count": 44,
      "outputs": [
        {
          "output_type": "display_data",
          "data": {
            "text/plain": [
              "<Figure size 640x480 with 1 Axes>"
            ],
            "image/png": "[encoded data removed]"
          },
          "metadata": {}
        }
      ]
    },
    {
      "cell_type": "markdown",
      "source": [
        "Muestre con un gráfico de barras, como el volumen fue cambiando *año a año*."
      ],
      "metadata": {
        "id": "K1UXxoawApPD"
      }
    },
    {
      "cell_type": "code",
      "source": [
        "volumen_anual = dataframe.groupby(dataframe.index.year)['Volume'].sum()\n",
        "volumen_anual.index = pd.to_numeric(volumen_anual.index, errors='coerce')\n",
        "volumen_anual.plot(kind='bar')\n",
        "plt.xlabel('Año')\n",
        "plt.ylabel('Volumen')\n",
        "plt.title('Volumen año a año')\n",
        "plt.show()"
      ],
      "metadata": {
        "id": "4OyausU5ApGJ",
        "colab": {
          "base_uri": "https://localhost:8080/",
          "height": 493
        },
        "outputId": "4cee4ca0-66ec-487a-b72e-776a434083e3"
      },
      "execution_count": 45,
      "outputs": [
        {
          "output_type": "display_data",
          "data": {
            "text/plain": [
              "<Figure size 640x480 with 1 Axes>"
            ],
            "image/png": "[encoded data removed]"
          },
          "metadata": {}
        }
      ]
    },
    {
      "cell_type": "markdown",
      "source": [
        "# Cancelaciones y Delays de vuelos del 2015"
      ],
      "metadata": {
        "id": "uf4NRwyMCKbg"
      }
    },
    {
      "cell_type": "markdown",
      "source": [
        "Creese una cuenta en Kaggle e importe los archivos del dataset del siguiente link: https://www.kaggle.com/datasets/usdot/flight-delays. Cree los dataframes `airlines`, `airports`, y `flights` apartir de esos archivos."
      ],
      "metadata": {
        "id": "RoYldCmDCKWJ"
      }
    },
    {
      "cell_type": "code",
      "source": [
        "import pandas as pd\n",
        "\n",
        "airlines_path = \"airlines.csv\"\n",
        "airports_path = \"airports.csv\"\n",
        "flights_path = \"flights.csv\"\n",
        "\n",
        "airlines = pd.read_csv(airlines_path)\n",
        "airports = pd.read_csv(airports_path)\n",
        "flights = pd.read_csv(flights_path)\n",
        "\n",
        "print(airlines.head(), \"\\n\")\n",
        "print(airports.head(), \"\\n\")\n",
        "print(flights.head(), \"\\n\")\n",
        "\n",
        "\n",
        ""
      ],
      "metadata": {
        "id": "pRwfZBNKEFwo",
        "colab": {
          "base_uri": "https://localhost:8080/"
        },
        "outputId": "f11d67e2-06ef-40b3-b17c-af7f65ed022a"
      },
      "execution_count": 47,
      "outputs": [
        {
          "output_type": "stream",
          "name": "stdout",
          "text": [
            "  IATA_CODE                 AIRLINE\n",
            "0        UA   United Air Lines Inc.\n",
            "1        AA  American Airlines Inc.\n",
            "2        US         US Airways Inc.\n",
            "3        F9  Frontier Airlines Inc.\n",
            "4        B6         JetBlue Airways \n",
            "\n",
            "  IATA_CODE                              AIRPORT         CITY STATE COUNTRY  \\\n",
            "0       ABE  Lehigh Valley International Airport    Allentown    PA     USA   \n",
            "1       ABI             Abilene Regional Airport      Abilene    TX     USA   \n",
            "2       ABQ    Albuquerque International Sunport  Albuquerque    NM     USA   \n",
            "3       ABR            Aberdeen Regional Airport     Aberdeen    SD     USA   \n",
            "4       ABY   Southwest Georgia Regional Airport       Albany    GA     USA   \n",
            "\n",
            "   LATITUDE  LONGITUDE  \n",
            "0  40.65236  -75.44040  \n",
            "1  32.41132  -99.68190  \n",
            "2  35.04022 -106.60919  \n",
            "3  45.44906  -98.42183  \n",
            "4  31.53552  -84.19447   \n",
            "\n",
            "   YEAR  MONTH  DAY  DAY_OF_WEEK AIRLINE  FLIGHT_NUMBER TAIL_NUMBER  \\\n",
            "0  2015      1    1            4      AS             98      N407AS   \n",
            "1  2015      1    1            4      AA           2336      N3KUAA   \n",
            "2  2015      1    1            4      US            840      N171US   \n",
            "3  2015      1    1            4      AA            258      N3HYAA   \n",
            "4  2015      1    1            4      AS            135      N527AS   \n",
            "\n",
            "  ORIGIN_AIRPORT DESTINATION_AIRPORT  SCHEDULED_DEPARTURE  ...  ARRIVAL_TIME  \\\n",
            "0            ANC                 SEA                    5  ...         408.0   \n",
            "1            LAX                 PBI                   10  ...         741.0   \n",
            "2            SFO                 CLT                   20  ...         811.0   \n",
            "3            LAX                 MIA                   20  ...         756.0   \n",
            "4            SEA                 ANC                   25  ...         259.0   \n",
            "\n",
            "   ARRIVAL_DELAY  DIVERTED  CANCELLED  CANCELLATION_REASON  AIR_SYSTEM_DELAY  \\\n",
            "0          -22.0         0          0                  NaN               NaN   \n",
            "1           -9.0         0          0                  NaN               NaN   \n",
            "2            5.0         0          0                  NaN               NaN   \n",
            "3           -9.0         0          0                  NaN               NaN   \n",
            "4          -21.0         0          0                  NaN               NaN   \n",
            "\n",
            "   SECURITY_DELAY  AIRLINE_DELAY  LATE_AIRCRAFT_DELAY  WEATHER_DELAY  \n",
            "0             NaN            NaN                  NaN            NaN  \n",
            "1             NaN            NaN                  NaN            NaN  \n",
            "2             NaN            NaN                  NaN            NaN  \n",
            "3             NaN            NaN                  NaN            NaN  \n",
            "4             NaN            NaN                  NaN            NaN  \n",
            "\n",
            "[5 rows x 31 columns] \n",
            "\n"
          ]
        }
      ]
    },
    {
      "cell_type": "markdown",
      "source": [
        "Combine (*join*) las tablas `airlines`, `airports`, y `flights` en una sola tabla."
      ],
      "metadata": {
        "id": "PjDZHuvKCKNp"
      }
    },
    {
      "cell_type": "code",
      "source": [
        "combined_df = pd.merge(flights, airlines, left_on='AIRLINE', right_on='IATA_CODE', how='left')\n",
        "combined_df = combined_df.drop('IATA_CODE', axis=1)\n",
        "\n",
        "combined_df = pd.merge(combined_df, airports, left_on='ORIGIN_AIRPORT', right_on='IATA_CODE', how='left', suffixes=('_flight', '_origin'))\n",
        "\n",
        "combined_df = pd.merge(combined_df, airports, left_on='DESTINATION_AIRPORT', right_on='IATA_CODE', how='left', suffixes=('_origin', '_destination'))\n",
        "\n",
        "print(combined_df.head())"
      ],
      "metadata": {
        "id": "fSpwaXWzCKJ9",
        "colab": {
          "base_uri": "https://localhost:8080/"
        },
        "outputId": "a49494f4-4f66-463b-c5a6-9d878780c92f"
      },
      "execution_count": 48,
      "outputs": [
        {
          "output_type": "stream",
          "name": "stdout",
          "text": [
            "   YEAR  MONTH  DAY  DAY_OF_WEEK AIRLINE_x  FLIGHT_NUMBER TAIL_NUMBER  \\\n",
            "0  2015      1    1            4        AS             98      N407AS   \n",
            "1  2015      1    1            4        AA           2336      N3KUAA   \n",
            "2  2015      1    1            4        US            840      N171US   \n",
            "3  2015      1    1            4        AA            258      N3HYAA   \n",
            "4  2015      1    1            4        AS            135      N527AS   \n",
            "\n",
            "  ORIGIN_AIRPORT DESTINATION_AIRPORT  SCHEDULED_DEPARTURE  ...  \\\n",
            "0            ANC                 SEA                    5  ...   \n",
            "1            LAX                 PBI                   10  ...   \n",
            "2            SFO                 CLT                   20  ...   \n",
            "3            LAX                 MIA                   20  ...   \n",
            "4            SEA                 ANC                   25  ...   \n",
            "\n",
            "   COUNTRY_origin  LATITUDE_origin  LONGITUDE_origin  IATA_CODE_destination  \\\n",
            "0             USA         61.17432        -149.99619                    SEA   \n",
            "1             USA         33.94254        -118.40807                    PBI   \n",
            "2             USA         37.61900        -122.37484                    CLT   \n",
            "3             USA         33.94254        -118.40807                    MIA   \n",
            "4             USA         47.44898        -122.30931                    ANC   \n",
            "\n",
            "                           AIRPORT_destination  CITY_destination  \\\n",
            "0         Seattle-Tacoma International Airport           Seattle   \n",
            "1             Palm Beach International Airport   West Palm Beach   \n",
            "2      Charlotte Douglas International Airport         Charlotte   \n",
            "3                  Miami International Airport             Miami   \n",
            "4  Ted Stevens Anchorage International Airport         Anchorage   \n",
            "\n",
            "   STATE_destination  COUNTRY_destination  LATITUDE_destination  \\\n",
            "0                 WA                  USA              47.44898   \n",
            "1                 FL                  USA              26.68316   \n",
            "2                 NC                  USA              35.21401   \n",
            "3                 FL                  USA              25.79325   \n",
            "4                 AK                  USA              61.17432   \n",
            "\n",
            "   LONGITUDE_destination  \n",
            "0             -122.30931  \n",
            "1              -80.09559  \n",
            "2              -80.94313  \n",
            "3              -80.29056  \n",
            "4             -149.99619  \n",
            "\n",
            "[5 rows x 46 columns]\n"
          ]
        }
      ]
    },
    {
      "cell_type": "markdown",
      "source": [
        "¿Cuantos vuelos fueron al aeropuerto JFK?"
      ],
      "metadata": {
        "id": "qnx03j1hFm54"
      }
    },
    {
      "cell_type": "code",
      "source": [
        "jfk_flights = combined_df[combined_df['DESTINATION_AIRPORT'] == 'JFK']\n",
        "\n",
        "print(f\"Hacia el aeropuerto JFK hubo {len(jfk_flights)} vuelos\")"
      ],
      "metadata": {
        "id": "lmluYuizFnKD",
        "colab": {
          "base_uri": "https://localhost:8080/"
        },
        "outputId": "936798b5-c52c-40f2-dead-989a4e7b1fbc"
      },
      "execution_count": 53,
      "outputs": [
        {
          "output_type": "stream",
          "name": "stdout",
          "text": [
            "Hacia el aeropuerto JFK hubo 3016 vuelos\n"
          ]
        }
      ]
    },
    {
      "cell_type": "markdown",
      "source": [
        "¿Cuantos vuelos hizo la aerolinea AA?"
      ],
      "metadata": {
        "id": "dhyTy9BhFnXx"
      }
    },
    {
      "cell_type": "code",
      "source": [
        "vuelos_american_airlines = flights[flights['AIRLINE'] == 'AA']\n",
        "vuelos_american_airlines = vuelos_american_airlines.shape[0]\n",
        "\n",
        "print(f\"La aerolínea American Airlines realizó {vuelos_american_airlines} vuelos\")"
      ],
      "metadata": {
        "id": "IupGmRDpFnsu",
        "colab": {
          "base_uri": "https://localhost:8080/"
        },
        "outputId": "c5a45f1f-379c-40ee-bb35-dc12a180477a"
      },
      "execution_count": 54,
      "outputs": [
        {
          "output_type": "stream",
          "name": "stdout",
          "text": [
            "La aerolínea American Airlines realizó 15660 vuelos\n"
          ]
        }
      ]
    },
    {
      "cell_type": "markdown",
      "source": [
        "¿Que aerolineas (las primeras 5) tuvo la menor cantidad de vuelos con atrasos? Imprimirlas."
      ],
      "metadata": {
        "id": "kMP-JH_VEsMb"
      }
    },
    {
      "cell_type": "code",
      "source": [
        "retrasos_min = flights[flights['DEPARTURE_DELAY'] > 0].groupby('AIRLINE')['DEPARTURE_DELAY'].count()\n",
        "sorted_airlines = retrasos_min.sort_values()\n",
        "\n",
        "print(f\"Las 5 aerolineas con la menor cantidad de vuelos con atrasos son: \\n{retrasos_min.head(5)}\")"
      ],
      "metadata": {
        "id": "4-h0JTPuEsZk",
        "colab": {
          "base_uri": "https://localhost:8080/"
        },
        "outputId": "4117243b-9ead-4c82-97c8-811089d3a059"
      },
      "execution_count": 56,
      "outputs": [
        {
          "output_type": "stream",
          "name": "stdout",
          "text": [
            "Las 5 aerolineas con la menor cantidad de vuelos con atrasos son: \n",
            "AIRLINE\n",
            "AA    8309\n",
            "AS    1547\n",
            "B6    3606\n",
            "DL    8963\n",
            "EV    8029\n",
            "Name: DEPARTURE_DELAY, dtype: int64\n"
          ]
        }
      ]
    },
    {
      "cell_type": "markdown",
      "source": [
        "¿Que aerolineas (las primeras 5) tuvo la mayor cantidad de vuelos con atrasos? Imprimirlas."
      ],
      "metadata": {
        "id": "AD51bj4AEs3L"
      }
    },
    {
      "cell_type": "code",
      "source": [
        "retrasos_max = flights[flights['DEPARTURE_DELAY'] > 0].groupby('AIRLINE')['DEPARTURE_DELAY'].count()\n",
        "sorted_airlines = retrasos_max.sort_values(ascending=False)\n",
        "\n",
        "print(f\"Las 5 aerolineas con la mayor cantidad de vuelos con atrasos son: \\n{retrasos_max.head(5)}\")"
      ],
      "metadata": {
        "id": "MiB6jHQ2Erqx",
        "colab": {
          "base_uri": "https://localhost:8080/"
        },
        "outputId": "c5d6e401-e0cb-4c94-9590-4680127b30f7"
      },
      "execution_count": 58,
      "outputs": [
        {
          "output_type": "stream",
          "name": "stdout",
          "text": [
            "Las 5 aerolineas con la mayor cantidad de vuelos con atrasos son: \n",
            "AIRLINE\n",
            "AA    8309\n",
            "AS    1547\n",
            "B6    3606\n",
            "DL    8963\n",
            "EV    8029\n",
            "Name: DEPARTURE_DELAY, dtype: int64\n"
          ]
        }
      ]
    },
    {
      "cell_type": "markdown",
      "source": [
        "Haga un resumen de las razones por la cual los vuelos se atrasan."
      ],
      "metadata": {
        "id": "DWQedGQvFYGP"
      }
    },
    {
      "cell_type": "code",
      "source": [
        "\n",
        "print(f\"La razon principal de los atrasos es: {flights['CANCELLATION_REASON'].value_counts()}\")\n"
      ],
      "metadata": {
        "id": "AtPN0dv5FX3d",
        "colab": {
          "base_uri": "https://localhost:8080/"
        },
        "outputId": "d6107d09-3a32-46f4-9029-a9370c30bcc6"
      },
      "execution_count": 62,
      "outputs": [
        {
          "output_type": "stream",
          "name": "stdout",
          "text": [
            "La razon principal de los atrasos es: CANCELLATION_REASON\n",
            "A    1618\n",
            "B    1602\n",
            "C    1081\n",
            "D       1\n",
            "Name: count, dtype: int64\n"
          ]
        }
      ]
    },
    {
      "cell_type": "markdown",
      "source": [
        "Compruebe si hay columnas con celdas vacias."
      ],
      "metadata": {
        "id": "rMpR4FWdCKF2"
      }
    },
    {
      "cell_type": "code",
      "source": [
        "print(flights.isnull().sum())\n"
      ],
      "metadata": {
        "id": "S_SzBL9ZCKCV",
        "colab": {
          "base_uri": "https://localhost:8080/"
        },
        "outputId": "5243d37a-b104-4572-9985-fc2cd5819dec"
      },
      "execution_count": 63,
      "outputs": [
        {
          "output_type": "stream",
          "name": "stdout",
          "text": [
            "YEAR                        0\n",
            "MONTH                       0\n",
            "DAY                         0\n",
            "DAY_OF_WEEK                 0\n",
            "AIRLINE                     0\n",
            "FLIGHT_NUMBER               0\n",
            "TAIL_NUMBER               326\n",
            "ORIGIN_AIRPORT              0\n",
            "DESTINATION_AIRPORT         0\n",
            "SCHEDULED_DEPARTURE         0\n",
            "DEPARTURE_TIME           4128\n",
            "DEPARTURE_DELAY          4128\n",
            "TAXI_OUT                 4260\n",
            "WHEELS_OFF               4260\n",
            "SCHEDULED_TIME              0\n",
            "ELAPSED_TIME             4732\n",
            "AIR_TIME                 4732\n",
            "DISTANCE                    0\n",
            "WHEELS_ON                4434\n",
            "TAXI_IN                  4434\n",
            "SCHEDULED_ARRIVAL           0\n",
            "ARRIVAL_TIME             4434\n",
            "ARRIVAL_DELAY            4732\n",
            "DIVERTED                    0\n",
            "CANCELLED                   0\n",
            "CANCELLATION_REASON    161541\n",
            "AIR_SYSTEM_DELAY       115537\n",
            "SECURITY_DELAY         115537\n",
            "AIRLINE_DELAY          115537\n",
            "LATE_AIRCRAFT_DELAY    115537\n",
            "WEATHER_DELAY          115537\n",
            "dtype: int64\n"
          ]
        }
      ]
    },
    {
      "cell_type": "markdown",
      "source": [
        "Haga una imputación de datos COMPLETA del dataframe. Pueden escojer cualquier estrategia y no necesariamente todas las columnas deben seguir la misma estrategia."
      ],
      "metadata": {
        "id": "1IH7wd3PCJfQ"
      }
    },
    {
      "cell_type": "code",
      "source": [
        "flights['DEPARTURE_DELAY'] = flights['DEPARTURE_DELAY'].fillna(flights['DEPARTURE_DELAY'].mean())\n",
        "flights['ARRIVAL_DELAY'] = flights['ARRIVAL_DELAY'].fillna(flights['ARRIVAL_DELAY'].median())\n",
        "\n",
        "for col in ['AIR_SYSTEM_DELAY', 'DEPARTURE_TIME', 'AIRLINE_DELAY', 'WHEELS_OFF', 'TAIL_NUMBER']:\n",
        "    flights[col] = flights[col].fillna(0)\n",
        "\n",
        "flights['CANCELLATION_REASON'] = flights['CANCELLATION_REASON'].fillna('Unknown')\n",
        "\n",
        "print(flights.isnull().sum())"
      ],
      "metadata": {
        "id": "PHmO-jb8CJaF",
        "colab": {
          "base_uri": "https://localhost:8080/"
        },
        "outputId": "8be120ec-a924-42fb-b5c9-46ab05ea0cb8"
      },
      "execution_count": 65,
      "outputs": [
        {
          "output_type": "stream",
          "name": "stdout",
          "text": [
            "YEAR                      0\n",
            "MONTH                     0\n",
            "DAY                       0\n",
            "DAY_OF_WEEK               0\n",
            "AIRLINE                   0\n",
            "FLIGHT_NUMBER             0\n",
            "TAIL_NUMBER               0\n",
            "ORIGIN_AIRPORT            0\n",
            "DESTINATION_AIRPORT       0\n",
            "SCHEDULED_DEPARTURE       0\n",
            "DEPARTURE_TIME            0\n",
            "DEPARTURE_DELAY           0\n",
            "TAXI_OUT               4260\n",
            "WHEELS_OFF                0\n",
            "SCHEDULED_TIME            0\n",
            "ELAPSED_TIME           4732\n",
            "AIR_TIME               4732\n",
            "DISTANCE                  0\n",
            "WHEELS_ON              4434\n",
            "TAXI_IN                4434\n",
            "SCHEDULED_ARRIVAL         0\n",
            "ARRIVAL_TIME           4434\n",
            "ARRIVAL_DELAY             0\n",
            "DIVERTED                  0\n",
            "CANCELLED                 0\n",
            "CANCELLATION_REASON       0\n",
            "AIR_SYSTEM_DELAY          0\n",
            "SECURITY_DELAY            0\n",
            "AIRLINE_DELAY             0\n",
            "LATE_AIRCRAFT_DELAY       0\n",
            "WEATHER_DELAY             0\n",
            "dtype: int64\n"
          ]
        }
      ]
    }
  ]
}